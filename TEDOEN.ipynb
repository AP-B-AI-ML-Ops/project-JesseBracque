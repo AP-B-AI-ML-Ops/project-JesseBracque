{
 "cells": [
  {
   "cell_type": "markdown",
   "id": "5f10b2aa",
   "metadata": {},
   "source": [
    "# Te Doen"
   ]
  },
  {
   "cell_type": "markdown",
   "id": "0d35a5ee",
   "metadata": {},
   "source": [
    "## Rubrik"
   ]
  },
  {
   "cell_type": "markdown",
   "id": "5de67fb6",
   "metadata": {},
   "source": [
    "### Algemeent - Problem description:\n",
    "\n",
    "- Moet uitleg nog geven over wat het is en waarom\n",
    "\n",
    "### Labo 2 - Ex tracking & model registry:\n",
    "\n",
    "- Laten controleren of dit ook echt het geval is?\n",
    "\n",
    "### Workflow orchestration:\n",
    "\n",
    "- Is prefect en anderen => moet nog gebeuren!!!!\n",
    "- Problemen:\n",
    "  - Prefect start maar krijgt geen opties om uit te voeren op UI => waarom?\n",
    "\n",
    "### Model deployment:\n",
    "\n",
    "- Is deels in orde, maar meer nuance??\n",
    "\n",
    "### Labo 4 - Model monitoring:\n",
    "\n",
    "- Moet nog gebeuren!!!!\n",
    "  - database is toegevoegd\n",
    "  - maak grafana in orde => vraag hoeveel visualisaties er nodig zijn\n",
    "\n",
    "### Reproducability:\n",
    "\n",
    "- Werk instructies verder uit zodat code makkelijk te volgen is en uit te voeren\n",
    "- Zorg ervoor dat alle versies van de nodige libraries erbij staan => onderscheid tussen development en degene nodig voor effectieve uitvoer\n"
   ]
  }
 ],
 "metadata": {
  "language_info": {
   "name": "python"
  }
 },
 "nbformat": 4,
 "nbformat_minor": 5
}
