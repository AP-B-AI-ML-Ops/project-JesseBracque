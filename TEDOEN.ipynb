{
 "cells": [
  {
   "cell_type": "markdown",
   "id": "5f10b2aa",
   "metadata": {},
   "source": [
    "# Te Doen"
   ]
  },
  {
   "cell_type": "markdown",
   "id": "0d35a5ee",
   "metadata": {},
   "source": [
    "## Rubrik"
   ]
  },
  {
   "cell_type": "markdown",
   "id": "5de67fb6",
   "metadata": {},
   "source": [
    "### Problem description:\n",
    "- Moet uitleg nog geven over wat het is en waarom\n",
    "\n",
    "### Ex tracking & model registry:\n",
    "- Laten controleren of dit ook echt het geval is?\n",
    "\n",
    "### Workflow orchestration:\n",
    "- Is prefect en anderen => moet nog gebeuren!!!!\n",
    "\n",
    "### Model deployment:\n",
    "- Is deels in orde, maar meer nuance??\n",
    "\n",
    "### Model monitoring:\n",
    "- Moet nog gebeuren!!!!\n",
    "\n",
    "### Reproducability:\n",
    "- Werk instructies verder uit zodat code makkelijk te volgen is en uit te voeren\n",
    "- Zorg ervoor dat alle versies van de nodige libraries erbij staan => onderscheid tussen development en degene nodig voor effectieve uitvoer"
   ]
  }
 ],
 "metadata": {
  "language_info": {
   "name": "python"
  }
 },
 "nbformat": 4,
 "nbformat_minor": 5
}
